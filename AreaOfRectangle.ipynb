{
 "cells": [
  {
   "cell_type": "code",
   "execution_count": 1,
   "metadata": {},
   "outputs": [
    {
     "name": "stdout",
     "output_type": "stream",
     "text": [
      "Please Enter the Length of a Triangle: 7\n",
      "Please Enter the Width of a Triangle: 8\n",
      "The Area of a Rectangle using 7.0 and 8.0  =  56.0\n"
     ]
    }
   ],
   "source": [
    "# !/AreaOfRectangle/\n",
    "\n",
    "length = float(input('Please Enter the Length of a Triangle: '))\n",
    "\n",
    "width = float(input('Please Enter the Width of a Triangle: '))\n",
    "\n",
    "area = length * width\n",
    "\n",
    "print(\"The Area of a Rectangle using\", length, \"and\", width, \" = \", area)"
   ]
  },
  {
   "cell_type": "code",
   "execution_count": null,
   "metadata": {},
   "outputs": [],
   "source": []
  }
 ],
 "metadata": {
  "kernelspec": {
   "display_name": "Python 3",
   "language": "python",
   "name": "python3"
  },
  "language_info": {
   "codemirror_mode": {
    "name": "ipython",
    "version": 3
   },
   "file_extension": ".py",
   "mimetype": "text/x-python",
   "name": "python",
   "nbconvert_exporter": "python",
   "pygments_lexer": "ipython3",
   "version": "3.8.2"
  }
 },
 "nbformat": 4,
 "nbformat_minor": 4
}
