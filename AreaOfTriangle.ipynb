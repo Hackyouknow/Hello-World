{
 "cells": [
  {
   "cell_type": "code",
   "execution_count": null,
   "metadata": {},
   "outputs": [],
   "source": [
    "# !/AreaofTriangle/\n",
    "\n",
    "\n",
    "Height = float(input(\"Enter height of triangle : \"))\n",
    "\n",
    "Base = float(input(\"Entet base of triangle : \"))\n",
    "\n",
    "print(\"Area Of Triangle is : \" , format( (Height * Base ) / 2 ))\n",
    "\n",
    "\n"
   ]
  }
 ],
 "metadata": {
  "kernelspec": {
   "display_name": "Python 3",
   "language": "python",
   "name": "python3"
  },
  "language_info": {
   "codemirror_mode": {
    "name": "ipython",
    "version": 3
   },
   "file_extension": ".py",
   "mimetype": "text/x-python",
   "name": "python",
   "nbconvert_exporter": "python",
   "pygments_lexer": "ipython3",
   "version": "3.8.2"
  }
 },
 "nbformat": 4,
 "nbformat_minor": 4
}
