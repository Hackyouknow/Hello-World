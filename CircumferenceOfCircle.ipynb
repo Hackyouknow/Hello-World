{
 "cells": [
  {
   "cell_type": "code",
   "execution_count": 1,
   "metadata": {},
   "outputs": [
    {
     "name": "stdout",
     "output_type": "stream",
     "text": [
      " Please Enter the radius of a circle: 34\n",
      " Circumference Of a Circle = 213.52\n"
     ]
    }
   ],
   "source": [
    "# !/CircumferenceOfCircle/\n",
    "\n",
    "\n",
    "PI = 3.14\n",
    "\n",
    "radius = float(input(' Please Enter the radius of a circle: '))\n",
    "\n",
    "circumference = 2 * PI * radius\n",
    "\n",
    "print(\" Circumference Of a Circle = %.2f\" %circumference)"
   ]
  },
  {
   "cell_type": "code",
   "execution_count": null,
   "metadata": {},
   "outputs": [],
   "source": []
  }
 ],
 "metadata": {
  "kernelspec": {
   "display_name": "Python 3",
   "language": "python",
   "name": "python3"
  },
  "language_info": {
   "codemirror_mode": {
    "name": "ipython",
    "version": 3
   },
   "file_extension": ".py",
   "mimetype": "text/x-python",
   "name": "python",
   "nbconvert_exporter": "python",
   "pygments_lexer": "ipython3",
   "version": "3.8.2"
  }
 },
 "nbformat": 4,
 "nbformat_minor": 4
}
