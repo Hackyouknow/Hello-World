{
 "cells": [
  {
   "cell_type": "code",
   "execution_count": 2,
   "metadata": {},
   "outputs": [
    {
     "name": "stdout",
     "output_type": "stream",
     "text": [
      "First enter the 'P' (PrincipalInterest) value\n",
      "Second enter the 'T' (Time) value\n",
      "Lastly enter the 'R' (RateOfInterest) value\n",
      "3\n",
      "3\n",
      "3\n",
      "Simple Interest =  0.27\n"
     ]
    }
   ],
   "source": [
    "# !/SimpleInterest/\n",
    "\n",
    "print(\"First enter the 'P' (PrincipalInterest) value\")\n",
    "\n",
    "print(\"Second enter the 'T' (Time) value\")\n",
    "\n",
    "print(\"Lastly enter the 'R' (RateOfInterest) value\")\n",
    "\n",
    "P = float(input())\n",
    "\n",
    "T = float(input())\n",
    "\n",
    "R = float(input())\n",
    "\n",
    "SI = (P * T * R)/100\n",
    "\n",
    "print(\"Simple Interest = \" , format(SI))"
   ]
  },
  {
   "cell_type": "code",
   "execution_count": null,
   "metadata": {},
   "outputs": [],
   "source": []
  },
  {
   "cell_type": "code",
   "execution_count": null,
   "metadata": {},
   "outputs": [],
   "source": []
  }
 ],
 "metadata": {
  "kernelspec": {
   "display_name": "Python 3",
   "language": "python",
   "name": "python3"
  },
  "language_info": {
   "codemirror_mode": {
    "name": "ipython",
    "version": 3
   },
   "file_extension": ".py",
   "mimetype": "text/x-python",
   "name": "python",
   "nbconvert_exporter": "python",
   "pygments_lexer": "ipython3",
   "version": "3.8.2"
  }
 },
 "nbformat": 4,
 "nbformat_minor": 4
}
